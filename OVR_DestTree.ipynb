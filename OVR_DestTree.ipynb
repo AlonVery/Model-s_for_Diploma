{
  "nbformat": 4,
  "nbformat_minor": 0,
  "metadata": {
    "colab": {
      "provenance": [],
      "authorship_tag": "ABX9TyMxWrs5+k7aJwgfbq9FXVuD",
      "include_colab_link": true
    },
    "kernelspec": {
      "name": "python3",
      "display_name": "Python 3"
    },
    "language_info": {
      "name": "python"
    }
  },
  "cells": [
    {
      "cell_type": "markdown",
      "metadata": {
        "id": "view-in-github",
        "colab_type": "text"
      },
      "source": [
        "<a href=\"https://colab.research.google.com/github/AlonVery/Model-s_for_Diploma/blob/main/OVR_DestTree.ipynb\" target=\"_parent\"><img src=\"https://colab.research.google.com/assets/colab-badge.svg\" alt=\"Open In Colab\"/></a>"
      ]
    },
    {
      "cell_type": "code",
      "source": [
        "!pip install scapy\n",
        "!pip install mocket\n",
        "!pip install lime\n",
        "!pip install shap"
      ],
      "metadata": {
        "colab": {
          "base_uri": "https://localhost:8080/"
        },
        "id": "8l28nso3MLml",
        "outputId": "b63cf7d6-5fcb-4c52-b0ee-6ca39130d656"
      },
      "execution_count": null,
      "outputs": [
        {
          "output_type": "stream",
          "name": "stdout",
          "text": [
            "Requirement already satisfied: scapy in /usr/local/lib/python3.10/dist-packages (2.5.0)\n",
            "Requirement already satisfied: mocket in /usr/local/lib/python3.10/dist-packages (3.12.4)\n",
            "Requirement already satisfied: decorator>=4.0.0 in /usr/local/lib/python3.10/dist-packages (from mocket) (4.4.2)\n",
            "Requirement already satisfied: httptools in /usr/local/lib/python3.10/dist-packages (from mocket) (0.6.1)\n",
            "Requirement already satisfied: python-magic>=0.4.5 in /usr/local/lib/python3.10/dist-packages (from mocket) (0.4.27)\n",
            "Requirement already satisfied: urllib3>=1.25.3 in /usr/local/lib/python3.10/dist-packages (from mocket) (2.0.7)\n",
            "Requirement already satisfied: lime in /usr/local/lib/python3.10/dist-packages (0.2.0.1)\n",
            "Requirement already satisfied: matplotlib in /usr/local/lib/python3.10/dist-packages (from lime) (3.7.1)\n",
            "Requirement already satisfied: numpy in /usr/local/lib/python3.10/dist-packages (from lime) (1.25.2)\n",
            "Requirement already satisfied: scipy in /usr/local/lib/python3.10/dist-packages (from lime) (1.11.4)\n",
            "Requirement already satisfied: tqdm in /usr/local/lib/python3.10/dist-packages (from lime) (4.66.2)\n",
            "Requirement already satisfied: scikit-learn>=0.18 in /usr/local/lib/python3.10/dist-packages (from lime) (1.2.2)\n",
            "Requirement already satisfied: scikit-image>=0.12 in /usr/local/lib/python3.10/dist-packages (from lime) (0.19.3)\n",
            "Requirement already satisfied: networkx>=2.2 in /usr/local/lib/python3.10/dist-packages (from scikit-image>=0.12->lime) (3.2.1)\n",
            "Requirement already satisfied: pillow!=7.1.0,!=7.1.1,!=8.3.0,>=6.1.0 in /usr/local/lib/python3.10/dist-packages (from scikit-image>=0.12->lime) (9.4.0)\n",
            "Requirement already satisfied: imageio>=2.4.1 in /usr/local/lib/python3.10/dist-packages (from scikit-image>=0.12->lime) (2.31.6)\n",
            "Requirement already satisfied: tifffile>=2019.7.26 in /usr/local/lib/python3.10/dist-packages (from scikit-image>=0.12->lime) (2024.2.12)\n",
            "Requirement already satisfied: PyWavelets>=1.1.1 in /usr/local/lib/python3.10/dist-packages (from scikit-image>=0.12->lime) (1.6.0)\n",
            "Requirement already satisfied: packaging>=20.0 in /usr/local/lib/python3.10/dist-packages (from scikit-image>=0.12->lime) (24.0)\n",
            "Requirement already satisfied: joblib>=1.1.1 in /usr/local/lib/python3.10/dist-packages (from scikit-learn>=0.18->lime) (1.3.2)\n",
            "Requirement already satisfied: threadpoolctl>=2.0.0 in /usr/local/lib/python3.10/dist-packages (from scikit-learn>=0.18->lime) (3.4.0)\n",
            "Requirement already satisfied: contourpy>=1.0.1 in /usr/local/lib/python3.10/dist-packages (from matplotlib->lime) (1.2.0)\n",
            "Requirement already satisfied: cycler>=0.10 in /usr/local/lib/python3.10/dist-packages (from matplotlib->lime) (0.12.1)\n",
            "Requirement already satisfied: fonttools>=4.22.0 in /usr/local/lib/python3.10/dist-packages (from matplotlib->lime) (4.50.0)\n",
            "Requirement already satisfied: kiwisolver>=1.0.1 in /usr/local/lib/python3.10/dist-packages (from matplotlib->lime) (1.4.5)\n",
            "Requirement already satisfied: pyparsing>=2.3.1 in /usr/local/lib/python3.10/dist-packages (from matplotlib->lime) (3.1.2)\n",
            "Requirement already satisfied: python-dateutil>=2.7 in /usr/local/lib/python3.10/dist-packages (from matplotlib->lime) (2.8.2)\n",
            "Requirement already satisfied: six>=1.5 in /usr/local/lib/python3.10/dist-packages (from python-dateutil>=2.7->matplotlib->lime) (1.16.0)\n",
            "Requirement already satisfied: shap in /usr/local/lib/python3.10/dist-packages (0.45.0)\n",
            "Requirement already satisfied: numpy in /usr/local/lib/python3.10/dist-packages (from shap) (1.25.2)\n",
            "Requirement already satisfied: scipy in /usr/local/lib/python3.10/dist-packages (from shap) (1.11.4)\n",
            "Requirement already satisfied: scikit-learn in /usr/local/lib/python3.10/dist-packages (from shap) (1.2.2)\n",
            "Requirement already satisfied: pandas in /usr/local/lib/python3.10/dist-packages (from shap) (2.0.3)\n",
            "Requirement already satisfied: tqdm>=4.27.0 in /usr/local/lib/python3.10/dist-packages (from shap) (4.66.2)\n",
            "Requirement already satisfied: packaging>20.9 in /usr/local/lib/python3.10/dist-packages (from shap) (24.0)\n",
            "Requirement already satisfied: slicer==0.0.7 in /usr/local/lib/python3.10/dist-packages (from shap) (0.0.7)\n",
            "Requirement already satisfied: numba in /usr/local/lib/python3.10/dist-packages (from shap) (0.58.1)\n",
            "Requirement already satisfied: cloudpickle in /usr/local/lib/python3.10/dist-packages (from shap) (2.2.1)\n",
            "Requirement already satisfied: llvmlite<0.42,>=0.41.0dev0 in /usr/local/lib/python3.10/dist-packages (from numba->shap) (0.41.1)\n",
            "Requirement already satisfied: python-dateutil>=2.8.2 in /usr/local/lib/python3.10/dist-packages (from pandas->shap) (2.8.2)\n",
            "Requirement already satisfied: pytz>=2020.1 in /usr/local/lib/python3.10/dist-packages (from pandas->shap) (2023.4)\n",
            "Requirement already satisfied: tzdata>=2022.1 in /usr/local/lib/python3.10/dist-packages (from pandas->shap) (2024.1)\n",
            "Requirement already satisfied: joblib>=1.1.1 in /usr/local/lib/python3.10/dist-packages (from scikit-learn->shap) (1.3.2)\n",
            "Requirement already satisfied: threadpoolctl>=2.0.0 in /usr/local/lib/python3.10/dist-packages (from scikit-learn->shap) (3.4.0)\n",
            "Requirement already satisfied: six>=1.5 in /usr/local/lib/python3.10/dist-packages (from python-dateutil>=2.8.2->pandas->shap) (1.16.0)\n"
          ]
        }
      ]
    },
    {
      "cell_type": "code",
      "execution_count": null,
      "metadata": {
        "colab": {
          "base_uri": "https://localhost:8080/",
          "height": 17
        },
        "id": "d6fg3_I20mUk",
        "outputId": "60a55a8f-23cb-4308-fe59-a16b81366056"
      },
      "outputs": [
        {
          "output_type": "display_data",
          "data": {
            "text/html": [
              "        <script type=\"text/javascript\">\n",
              "        window.PlotlyConfig = {MathJaxConfig: 'local'};\n",
              "        if (window.MathJax && window.MathJax.Hub && window.MathJax.Hub.Config) {window.MathJax.Hub.Config({SVG: {font: \"STIX-Web\"}});}\n",
              "        if (typeof require !== 'undefined') {\n",
              "        require.undef(\"plotly\");\n",
              "        requirejs.config({\n",
              "            paths: {\n",
              "                'plotly': ['https://cdn.plot.ly/plotly-2.24.1.min']\n",
              "            }\n",
              "        });\n",
              "        require(['plotly'], function(Plotly) {\n",
              "            window._Plotly = Plotly;\n",
              "        });\n",
              "        }\n",
              "        </script>\n",
              "        "
            ]
          },
          "metadata": {}
        }
      ],
      "source": [
        "import numpy as np\n",
        "import pandas as pd\n",
        "import seaborn as sns\n",
        "import tensorflow as tf\n",
        "from tensorflow import keras\n",
        "import matplotlib.pyplot as plt\n",
        "from sklearn.cluster import KMeans\n",
        "from sklearn.pipeline import Pipeline\n",
        "from keras.utils import to_categorical\n",
        "from tensorflow.keras import Sequential\n",
        "from tensorflow.keras.layers import Dense\n",
        "from tensorflow.keras.optimizers import Adam\n",
        "from sklearn.ensemble import IsolationForest\n",
        "from sklearn.compose import ColumnTransformer\n",
        "from tensorflow.keras.metrics import Accuracy\n",
        "from sklearn.model_selection import train_test_split\n",
        "from tensorflow.keras.losses import BinaryCrossentropy\n",
        "from tensorflow.keras.callbacks import LearningRateScheduler\n",
        "from scipy.cluster.hierarchy import dendrogram\n",
        "from sklearn.preprocessing import OneHotEncoder, FunctionTransformer, LabelEncoder\n",
        "from sklearn.cluster import AgglomerativeClustering\n",
        "from scipy.cluster.hierarchy import dendrogram, linkage\n",
        "from sklearn.model_selection import train_test_split\n",
        "from sklearn.ensemble import RandomForestClassifier\n",
        "from sklearn.ensemble import RandomForestClassifier\n",
        "from sklearn.tree import DecisionTreeClassifier\n",
        "from sklearn.metrics import confusion_matrix, ConfusionMatrixDisplay, classification_report, accuracy_score\n",
        "from sklearn.multiclass import OneVsRestClassifier\n",
        "from sklearn.tree import DecisionTreeClassifier\n",
        "from sklearn.model_selection import train_test_split\n",
        "from sklearn.metrics import accuracy_score\n",
        "from sklearn.preprocessing import OrdinalEncoder\n",
        "import pickle\n",
        "import joblib\n",
        "from joblib import dump, load\n",
        "import numpy as np\n",
        "import pandas as pd\n",
        "import seaborn as sns\n",
        "import tensorflow as tf\n",
        "from tensorflow import keras\n",
        "import matplotlib.pyplot as plt\n",
        "from sklearn.cluster import KMeans\n",
        "from sklearn.pipeline import Pipeline\n",
        "from keras.utils import to_categorical\n",
        "from tensorflow.keras import Sequential\n",
        "from tensorflow.keras.layers import Dense\n",
        "from tensorflow.keras.optimizers import Adam\n",
        "from sklearn.ensemble import IsolationForest\n",
        "from sklearn.compose import ColumnTransformer\n",
        "from tensorflow.keras.metrics import Accuracy\n",
        "from sklearn.model_selection import train_test_split\n",
        "from tensorflow.keras.losses import BinaryCrossentropy\n",
        "from tensorflow.keras.callbacks import LearningRateScheduler\n",
        "from sklearn.preprocessing import OneHotEncoder, FunctionTransformer, LabelEncoder\n",
        "from sklearn.metrics import confusion_matrix\n",
        "from sklearn.metrics import ConfusionMatrixDisplay\n",
        "from sklearn.metrics import confusion_matrix, ConfusionMatrixDisplay, classification_report, accuracy_score\n",
        "from sklearn.model_selection import learning_curve, validation_curve\n",
        "import numpy as np\n",
        "import matplotlib.pyplot as plt\n",
        "from sklearn.model_selection import learning_curve, validation_curve\n",
        "import numpy as np\n",
        "import pandas as pd\n",
        "import seaborn as sns\n",
        "import joblib\n",
        "import matplotlib.pyplot as plt\n",
        "import plotly.express as px\n",
        "from sklearn.ensemble import RandomForestClassifier\n",
        "import warnings\n",
        "warnings.filterwarnings('ignore')\n",
        "from sklearn.metrics import confusion_matrix, ConfusionMatrixDisplay, classification_report, accuracy_score\n",
        "import lime\n",
        "import lime.lime_tabular\n",
        "import shap\n",
        "from sklearn.model_selection import train_test_split\n",
        "from plotly.offline import init_notebook_mode, iplot, plot\n",
        "import plotly as py\n",
        "import plotly.express as px\n",
        "init_notebook_mode(connected=True)\n",
        "import plotly.graph_objs as go\n",
        "import socket\n",
        "from scapy.all import sniff\n",
        "from unittest.mock import patch\n",
        "import random\n",
        "import pickle\n",
        "from joblib import dump, load\n",
        "from xgboost import XGBClassifier"
      ]
    },
    {
      "cell_type": "markdown",
      "source": [
        "###Загрузка тренировочного датасета, определение классов атак\n"
      ],
      "metadata": {
        "id": "ZgtCI-w1nUqf"
      }
    },
    {
      "cell_type": "code",
      "source": [
        "# вытаскиваем тренировачный датасет и разбиваем каждую колонку на нужный нам параметр всего 43\n",
        "#выделяем каждый датасет отдельно на тест и на треин\n",
        "#df.head() #df.info() #df['protocol_type'].unique()\n",
        "#data = df.drop('attack', axis=1)\n",
        "#df.head()\n",
        "\n",
        "df = pd.read_csv(\"https://raw.githubusercontent.com/stepka123/basic-NL-SA/main/KDDTrain%2B.txt\")\n",
        "\n",
        "columns = (['duration','protocol_type','service','flag','src_bytes','dst_bytes','land','wrong_fragment','urgent','hot'\n",
        ",'num_failed_logins','logged_in','num_compromised','root_shell','su_attempted','num_root','num_file_creations'\n",
        ",'num_shells','num_access_files','num_outbound_cmds','is_host_login','is_guest_login','count','srv_count','serror_rate'\n",
        ",'srv_serror_rate','rerror_rate','srv_rerror_rate','same_srv_rate','diff_srv_rate','srv_diff_host_rate','dst_host_count','dst_host_srv_count'\n",
        ",'dst_host_same_srv_rate','dst_host_diff_srv_rate','dst_host_same_src_port_rate','dst_host_srv_diff_host_rate','dst_host_serror_rate'\n",
        ",'dst_host_srv_serror_rate','dst_host_rerror_rate','dst_host_srv_rerror_rate','attack', 'level'])\n",
        "df.columns = columns\n",
        "df.head()\n",
        "\n",
        "df_train=pd.read_csv('https://raw.githubusercontent.com/stepka123/basic-NL-SA/main/KDDTrain%2B.txt',header=None,names=columns)\n",
        "df_test=pd.read_csv('https://raw.githubusercontent.com/stepka123/basic-NL-SA/stepka123-KDD_Dataset/KDDTrain%2B.txt',header=None,names=columns)\n",
        "df = pd.concat([df_train, df_test])\n",
        "df_train.head()\n",
        "#unique_values = pd.unique(df['service'])\n",
        "#print(unique_values)\n",
        "#count_of_ones = df['service'].value_counts()[1]\n",
        "#print(\"Количество единиц в столбце 'service':\", count_of_ones)\n",
        "# changing attack labels to their respective attack class\n",
        "def change_label(df):\n",
        "    df.attack.replace(['apache2','back','land','neptune','mailbomb','pod','processtable','smurf','teardrop','udpstorm','worm'],'Dos',inplace=True)\n",
        "    df.attack.replace(['ftp_write','guess_passwd','httptunnel','imap','multihop','named','phf','sendmail','snmpgetattack','snmpguess','spy','warezclient','warezmaster','xlock','xsnoop'],'R2L',inplace=True)\n",
        "    df.attack.replace(['ipsweep','mscan','nmap','portsweep','saint','satan'],'Probe',inplace=True)\n",
        "    df.attack.replace(['buffer_overflow','loadmodule','perl','ps','rootkit','sqlattack','xterm'],'U2R',inplace=True)\n",
        "change_label(df)\n",
        "df.attack.unique()\n"
      ],
      "metadata": {
        "id": "X0cWESd7LmCp",
        "colab": {
          "base_uri": "https://localhost:8080/"
        },
        "outputId": "92df4a31-07d3-4ed1-8323-8a2ab175faaa"
      },
      "execution_count": null,
      "outputs": [
        {
          "output_type": "execute_result",
          "data": {
            "text/plain": [
              "array(['normal', 'Dos', 'R2L', 'Probe', 'U2R'], dtype=object)"
            ]
          },
          "metadata": {},
          "execution_count": 4
        }
      ]
    },
    {
      "cell_type": "markdown",
      "source": [
        "###Использование классификатора Lable Encoder и разметка на тренировочную и тестовые выборки. Так же удаляем дубликаты и нормируем данные."
      ],
      "metadata": {
        "id": "w3lF4aAnn7dN"
      }
    },
    {
      "cell_type": "code",
      "source": [
        "le1 = LabelEncoder()\n",
        "le2 = LabelEncoder()\n",
        "le3 = LabelEncoder()\n",
        "le4 = LabelEncoder()\n",
        "\n",
        "le_protocol_type = le1.fit(df['protocol_type'])\n",
        "le_service = le2.fit(df['service'])\n",
        "le_flag = le3.fit(df['flag'])\n",
        "le_attack = le4.fit(df['attack'])\n",
        "\n",
        "df['protocol_type'] = le_protocol_type.transform(df['protocol_type'])\n",
        "df['service'] = le_service.transform(df['service'])\n",
        "df['flag'] = le_flag.transform(df['flag'])\n",
        "df['attack'] = le_attack.transform(df['attack'])\n",
        "\n",
        "\n",
        "y_train= df[['attack']]\n",
        "X_train= df.drop(labels=['attack'], axis=1)\n",
        "print('X_train has shape:',X_train.shape,'\\ny_train has shape:',y_train.shape)\n",
        "#чистим будущие данные от NaN/ Null values\n",
        "\n",
        "def clean_dataset(df_test):\n",
        "    assert isinstance(df_test, pd.DataFrame), \"df_test needs to be a pd.DataFrame\"\n",
        "    df_test.dropna(inplace=True)\n",
        "    indices_to_keep = ~df_test.isin([np.nan, np.inf, -np.inf]).any(1)\n",
        "    return data_test[indices_to_keep]\n",
        "\n",
        "def clean_dataset(df_train):\n",
        "    assert isinstance(df_train, pd.DataFrame), \"df_train needs to be a pd.DataFrame\"\n",
        "    df_train.dropna(inplace=True)\n",
        "    indices_to_keep = ~df_train.isin([np.nan, np.inf, -np.inf]).any(1)\n",
        "    return df_train[indices_to_keep]\n",
        "\n",
        "\n",
        "#Дропаем дубликаты\n",
        "df_dpl = df.duplicated().sum()\n",
        "print(\"Дубликаты: \",df_dpl)\n",
        "df.drop_duplicates(inplace=True)\n",
        "\n",
        "X_train, X_test, y_train, y_test = train_test_split(X_train,y_train, test_size=0.20, random_state=42)\n",
        "target_names = ['normal', 'Dos', 'Probe', 'R2L', 'U2R']"
      ],
      "metadata": {
        "id": "WFiwVqc5NsnN",
        "colab": {
          "base_uri": "https://localhost:8080/"
        },
        "outputId": "2aeda7c7-1ae6-4ec7-babb-a9bce4056caf"
      },
      "execution_count": null,
      "outputs": [
        {
          "output_type": "stream",
          "name": "stdout",
          "text": [
            "X_train has shape: (125964, 42) \n",
            "y_train has shape: (125964, 1)\n",
            "Дубликаты:  0\n"
          ]
        }
      ]
    },
    {
      "cell_type": "markdown",
      "source": [
        "###Обучение модели и вывод оценки точности определения правильности ответа"
      ],
      "metadata": {
        "id": "c7H62kvdoAPO"
      }
    },
    {
      "cell_type": "code",
      "source": [
        "from sklearn.multiclass import OneVsRestClassifier\n",
        "from sklearn.tree import DecisionTreeClassifier\n",
        "from sklearn.model_selection import train_test_split\n",
        "from sklearn.metrics import accuracy_score\n",
        "\n",
        "# Определение признаков (X) и целевой переменной (y)\n",
        "X = df.drop('attack', axis=1)  # Признаки, кроме целевой переменной\n",
        "y = df['attack']  # Целевая переменная\n",
        "\n",
        "# Преобразование имен столбцов в строковый формат\n",
        "X.columns = X.columns.astype(str)\n",
        "\n",
        "# Разделение данных на обучающий и тестовый наборы\n",
        "X_train, X_test, y_train, y_test = train_test_split(X, y, test_size=0.2, random_state=48)\n",
        "\n",
        "# Создание и обучение модели One-vs-Rest с DecisionTreeClassifier\n",
        "ovr_classifier = OneVsRestClassifier(DecisionTreeClassifier())\n",
        "ovr_classifier.fit(X_train, y_train)\n",
        "\n",
        "# Оценка качества модели на тестовом наборе данных\n",
        "predictions = ovr_classifier.predict(X_test)\n",
        "accuracy = accuracy_score(y_test, predictions)\n",
        "print(\"Accuracy:\", accuracy)"
      ],
      "metadata": {
        "colab": {
          "base_uri": "https://localhost:8080/"
        },
        "id": "MOOEwjkXNOw1",
        "outputId": "d99ebb82-a3a2-4222-e69b-508339e49fd8"
      },
      "execution_count": null,
      "outputs": [
        {
          "output_type": "stream",
          "name": "stdout",
          "text": [
            "Accuracy: 0.9985710316357719\n"
          ]
        }
      ]
    },
    {
      "cell_type": "markdown",
      "source": [
        "###Испытание на другом тестовом датасете"
      ],
      "metadata": {
        "id": "WeiIzSDIoD_y"
      }
    },
    {
      "cell_type": "code",
      "source": [
        "filename = 'ovr_classifier.sav'\n",
        "pickle.dump(ovr_classifier, open(filename, 'wb'))"
      ],
      "metadata": {
        "id": "XG9a9ZWYabYv"
      },
      "execution_count": null,
      "outputs": []
    },
    {
      "cell_type": "code",
      "source": [
        "df_test = pd.read_csv('https://raw.githubusercontent.com/stepka123/basic-NL-SA/stepka123-KDD_Dataset/KDDTrain%2B_20Percent.txt')\n",
        "\n",
        "columns = (['duration','protocol_type','service','flag','src_bytes','dst_bytes','land','wrong_fragment','urgent','hot'\n",
        ",'num_failed_logins','logged_in','num_compromised','root_shell','su_attempted','num_root','num_file_creations'\n",
        ",'num_shells','num_access_files','num_outbound_cmds','is_host_login','is_guest_login','count','srv_count','serror_rate'\n",
        ",'srv_serror_rate','rerror_rate','srv_rerror_rate','same_srv_rate','diff_srv_rate','srv_diff_host_rate','dst_host_count','dst_host_srv_count'\n",
        ",'dst_host_same_srv_rate','dst_host_diff_srv_rate','dst_host_same_src_port_rate','dst_host_srv_diff_host_rate','dst_host_serror_rate'\n",
        ",'dst_host_srv_serror_rate','dst_host_rerror_rate','dst_host_srv_rerror_rate','attack','level'])\n",
        "\n",
        "df_test.columns = columns\n",
        "# changing attack labels to their respective attack class\n",
        "def change_label(df_test):\n",
        "    df_test.attack.replace(['apache2','back','land','neptune','mailbomb','pod','processtable','smurf','teardrop','udpstorm','worm'],'Dos',inplace=True)\n",
        "    df_test.attack.replace(['ftp_write','guess_passwd','httptunnel','imap','multihop','named','phf','sendmail','snmpgetattack','snmpguess','spy','warezclient','warezmaster','xlock','xsnoop'],'R2L',inplace=True)\n",
        "    df_test.attack.replace(['ipsweep','mscan','nmap','portsweep','saint','satan'],'Probe',inplace=True)\n",
        "    df_test.attack.replace(['buffer_overflow','loadmodule','perl','ps','rootkit','sqlattack','xterm'],'U2R',inplace=True)\n",
        "change_label(df_test)\n",
        "df_test.attack.unique()\n"
      ],
      "metadata": {
        "colab": {
          "base_uri": "https://localhost:8080/"
        },
        "id": "A_P797KjabWf",
        "outputId": "aeb3365b-725c-4f43-871e-b1784306667a"
      },
      "execution_count": null,
      "outputs": [
        {
          "output_type": "execute_result",
          "data": {
            "text/plain": [
              "array(['normal', 'Dos', 'R2L', 'Probe', 'U2R'], dtype=object)"
            ]
          },
          "metadata": {},
          "execution_count": 11
        }
      ]
    },
    {
      "cell_type": "code",
      "source": [
        "from sklearn.preprocessing import OneHotEncoder, LabelEncoder\n",
        "from scapy.all import *\n",
        "import random\n",
        "import pandas as pd\n",
        "from sklearn import preprocessing\n",
        "import numpy as np\n",
        "# Создание объектов LabelEncoder для каждого категориального столбца\n",
        "le_protocol_type = LabelEncoder()\n",
        "le_service = LabelEncoder()\n",
        "le_flag = LabelEncoder()\n",
        "\n",
        "# Преобразование категориальных признаков в числовые значения\n",
        "df_test['protocol_type'] = le_protocol_type.fit_transform(df_test['protocol_type'])\n",
        "df_test['service'] = le_service.fit_transform(df_test['service'])\n",
        "df_test['flag'] = le_flag.fit_transform(df_test['flag'])\n",
        "\n",
        "# Преобразование категориальных признаков в one-hot encoding\n",
        "encoder = OneHotEncoder()\n",
        "X_encoded = encoder.fit_transform(df_test[['protocol_type', 'service', 'flag']])\n",
        "\n",
        "# Преобразование разреженной матрицы в массив NumPy\n",
        "X_encoded_array = X_encoded.toarray()\n",
        "# Check the type of le_protocol_type\n",
        "print(type(le_protocol_type))\n",
        "\n",
        "# Check if the transform method is available in the le_protocol_type object\n",
        "print(hasattr(le_protocol_type, 'transform'))\n",
        "\n",
        "# Try to access the transform method directly\n",
        "print(le_protocol_type.transform)"
      ],
      "metadata": {
        "id": "x1zMtcF2h_hk",
        "colab": {
          "base_uri": "https://localhost:8080/"
        },
        "outputId": "a3982b02-efe8-4b10-b838-6f86eb4da195"
      },
      "execution_count": null,
      "outputs": [
        {
          "output_type": "stream",
          "name": "stdout",
          "text": [
            "<class 'sklearn.preprocessing._label.LabelEncoder'>\n",
            "True\n",
            "<bound method LabelEncoder.transform of LabelEncoder()>\n"
          ]
        }
      ]
    },
    {
      "cell_type": "code",
      "source": [
        "loaded_model = pickle.load(open(filename, 'rb'))"
      ],
      "metadata": {
        "id": "k0kWFzfhaa97"
      },
      "execution_count": null,
      "outputs": []
    },
    {
      "cell_type": "code",
      "source": [
        "def intrusion_check(packet):\n",
        "    packet[1] = le_protocol_type.transform([packet[1]])[0]\n",
        "    packet[2] = le_service.transform([packet[2]])[0]\n",
        "    packet[3] = le_flag.transform([packet[3]])[0]\n",
        "    pred = loaded_model.predict(np.reshape(packet, (1, 42)))\n",
        "    predicted = le_attack.inverse_transform(pred)\n",
        "\n",
        "    return predicted[0]"
      ],
      "metadata": {
        "id": "hS9kouQxfCm-"
      },
      "execution_count": null,
      "outputs": []
    },
    {
      "cell_type": "code",
      "source": [
        "def capture_packet(count=float('inf')):\n",
        "    filtered_packets = []\n",
        "\n",
        "    def handle_sniffed_packet(packet):\n",
        "        num = random.randint(0, 11849)\n",
        "        check = intrusion_check(list(df_test.iloc[num]))\n",
        "        if check == 'normal':\n",
        "            filtered_packets.append(packet)\n",
        "            print(f'Packet Safe, From [{packet.src}] To [{packet.dst}]')\n",
        "        else:\n",
        "            print(f'Caution! Found {check}, From [{packet.src}] To [{packet.dst}]')\n",
        "\n",
        "    # Start capturing packets using sniff\n",
        "    sniff(prn=handle_sniffed_packet, count=count)\n",
        "\n",
        "    return filtered_packets"
      ],
      "metadata": {
        "id": "n-MwuHrKfCkb"
      },
      "execution_count": null,
      "outputs": []
    },
    {
      "cell_type": "code",
      "source": [
        "# Capture 20 packets and receive the safe packets\n",
        "packets = capture_packet()"
      ],
      "metadata": {
        "colab": {
          "base_uri": "https://localhost:8080/"
        },
        "id": "hyRrbfArfCiA",
        "outputId": "164d20f0-66d6-45e1-c2c0-5eab06fa2800"
      },
      "execution_count": null,
      "outputs": [
        {
          "output_type": "stream",
          "name": "stdout",
          "text": [
            "Packet Safe, From [02:42:11:88:8d:11] To [02:42:ac:1c:00:0c]\n",
            "Packet Safe, From [02:42:ac:1c:00:0c] To [02:42:11:88:8d:11]\n",
            "Packet Safe, From [02:42:11:88:8d:11] To [02:42:ac:1c:00:0c]\n",
            "Caution! Found Dos, From [02:42:ac:1c:00:0c] To [02:42:11:88:8d:11]\n",
            "Packet Safe, From [02:42:ac:1c:00:0c] To [02:42:11:88:8d:11]\n",
            "Packet Safe, From [02:42:11:88:8d:11] To [02:42:ac:1c:00:0c]\n",
            "Caution! Found Dos, From [02:42:ac:1c:00:0c] To [02:42:11:88:8d:11]\n",
            "Packet Safe, From [02:42:11:88:8d:11] To [02:42:ac:1c:00:0c]\n",
            "Caution! Found R2L, From [02:42:11:88:8d:11] To [02:42:ac:1c:00:0c]\n",
            "Caution! Found Dos, From [02:42:ac:1c:00:0c] To [02:42:11:88:8d:11]\n",
            "Packet Safe, From [02:42:11:88:8d:11] To [02:42:ac:1c:00:0c]\n",
            "Caution! Found Dos, From [02:42:11:88:8d:11] To [02:42:ac:1c:00:0c]\n",
            "Caution! Found Dos, From [02:42:ac:1c:00:0c] To [02:42:11:88:8d:11]\n",
            "Caution! Found Probe, From [02:42:11:88:8d:11] To [02:42:ac:1c:00:0c]\n",
            "Packet Safe, From [02:42:11:88:8d:11] To [02:42:ac:1c:00:0c]\n",
            "Caution! Found Dos, From [02:42:11:88:8d:11] To [02:42:ac:1c:00:0c]\n",
            "Caution! Found Dos, From [02:42:ac:1c:00:0c] To [02:42:11:88:8d:11]\n",
            "Packet Safe, From [02:42:ac:1c:00:0c] To [02:42:11:88:8d:11]\n",
            "Caution! Found Dos, From [02:42:11:88:8d:11] To [02:42:ac:1c:00:0c]\n",
            "Caution! Found Dos, From [02:42:11:88:8d:11] To [02:42:ac:1c:00:0c]\n",
            "Packet Safe, From [02:42:ac:1c:00:0c] To [02:42:11:88:8d:11]\n",
            "Caution! Found Dos, From [02:42:ac:1c:00:0c] To [02:42:11:88:8d:11]\n",
            "Packet Safe, From [02:42:11:88:8d:11] To [02:42:ac:1c:00:0c]\n",
            "Caution! Found Dos, From [02:42:11:88:8d:11] To [02:42:ac:1c:00:0c]\n",
            "Caution! Found Dos, From [02:42:ac:1c:00:0c] To [02:42:11:88:8d:11]\n",
            "Packet Safe, From [02:42:11:88:8d:11] To [02:42:ac:1c:00:0c]\n",
            "Packet Safe, From [02:42:ac:1c:00:0c] To [02:42:11:88:8d:11]\n",
            "Caution! Found Dos, From [02:42:ac:1c:00:0c] To [02:42:11:88:8d:11]\n",
            "Packet Safe, From [02:42:11:88:8d:11] To [02:42:ac:1c:00:0c]\n",
            "Packet Safe, From [02:42:11:88:8d:11] To [02:42:ac:1c:00:0c]\n",
            "Caution! Found Dos, From [02:42:ac:1c:00:0c] To [02:42:11:88:8d:11]\n",
            "Caution! Found Dos, From [02:42:11:88:8d:11] To [02:42:ac:1c:00:0c]\n",
            "Caution! Found Dos, From [02:42:11:88:8d:11] To [02:42:ac:1c:00:0c]\n",
            "Packet Safe, From [02:42:ac:1c:00:0c] To [02:42:11:88:8d:11]\n",
            "Caution! Found Dos, From [02:42:11:88:8d:11] To [02:42:ac:1c:00:0c]\n",
            "Caution! Found Dos, From [02:42:11:88:8d:11] To [02:42:ac:1c:00:0c]\n",
            "Caution! Found Probe, From [02:42:ac:1c:00:0c] To [02:42:11:88:8d:11]\n",
            "Caution! Found Probe, From [02:42:ac:1c:00:0c] To [02:42:11:88:8d:11]\n",
            "Caution! Found Dos, From [02:42:11:88:8d:11] To [02:42:ac:1c:00:0c]\n",
            "Caution! Found Dos, From [02:42:ac:1c:00:0c] To [02:42:11:88:8d:11]\n",
            "Packet Safe, From [02:42:11:88:8d:11] To [02:42:ac:1c:00:0c]\n",
            "Caution! Found Probe, From [02:42:11:88:8d:11] To [02:42:ac:1c:00:0c]\n",
            "Caution! Found Dos, From [02:42:ac:1c:00:0c] To [02:42:11:88:8d:11]\n",
            "Caution! Found Probe, From [02:42:ac:1c:00:0c] To [02:42:11:88:8d:11]\n",
            "Packet Safe, From [02:42:11:88:8d:11] To [02:42:ac:1c:00:0c]\n",
            "Packet Safe, From [02:42:11:88:8d:11] To [02:42:ac:1c:00:0c]\n",
            "Packet Safe, From [02:42:ac:1c:00:0c] To [02:42:11:88:8d:11]\n",
            "Packet Safe, From [02:42:11:88:8d:11] To [02:42:ac:1c:00:0c]\n",
            "Packet Safe, From [02:42:11:88:8d:11] To [02:42:ac:1c:00:0c]\n",
            "Packet Safe, From [02:42:ac:1c:00:0c] To [02:42:11:88:8d:11]\n",
            "Packet Safe, From [02:42:11:88:8d:11] To [02:42:ac:1c:00:0c]\n",
            "Caution! Found Dos, From [02:42:11:88:8d:11] To [02:42:ac:1c:00:0c]\n",
            "Packet Safe, From [02:42:11:88:8d:11] To [02:42:ac:1c:00:0c]\n",
            "Packet Safe, From [02:42:ac:1c:00:0c] To [02:42:11:88:8d:11]\n",
            "Caution! Found Dos, From [02:42:ac:1c:00:0c] To [02:42:11:88:8d:11]\n",
            "Caution! Found Dos, From [02:42:11:88:8d:11] To [02:42:ac:1c:00:0c]\n",
            "Caution! Found Dos, From [02:42:11:88:8d:11] To [02:42:ac:1c:00:0c]\n",
            "Packet Safe, From [02:42:11:88:8d:11] To [02:42:ac:1c:00:0c]\n",
            "Packet Safe, From [02:42:ac:1c:00:0c] To [02:42:11:88:8d:11]\n",
            "Packet Safe, From [02:42:11:88:8d:11] To [02:42:ac:1c:00:0c]\n",
            "Caution! Found Dos, From [02:42:ac:1c:00:0c] To [02:42:11:88:8d:11]\n",
            "Packet Safe, From [02:42:ac:1c:00:0c] To [02:42:11:88:8d:11]\n",
            "Packet Safe, From [02:42:11:88:8d:11] To [02:42:ac:1c:00:0c]\n",
            "Packet Safe, From [02:42:11:88:8d:11] To [02:42:ac:1c:00:0c]\n",
            "Caution! Found Probe, From [02:42:ac:1c:00:0c] To [02:42:11:88:8d:11]\n",
            "Packet Safe, From [02:42:11:88:8d:11] To [02:42:ac:1c:00:0c]\n",
            "Caution! Found Dos, From [02:42:ac:1c:00:0c] To [02:42:11:88:8d:11]\n",
            "Caution! Found Dos, From [02:42:ac:1c:00:0c] To [02:42:11:88:8d:11]\n",
            "Caution! Found Dos, From [02:42:11:88:8d:11] To [02:42:ac:1c:00:0c]\n",
            "Packet Safe, From [02:42:11:88:8d:11] To [02:42:ac:1c:00:0c]\n",
            "Packet Safe, From [02:42:ac:1c:00:0c] To [02:42:11:88:8d:11]\n",
            "Caution! Found Dos, From [02:42:11:88:8d:11] To [02:42:ac:1c:00:0c]\n",
            "Packet Safe, From [02:42:11:88:8d:11] To [02:42:ac:1c:00:0c]\n",
            "Caution! Found Probe, From [02:42:ac:1c:00:0c] To [02:42:11:88:8d:11]\n",
            "Caution! Found Dos, From [02:42:11:88:8d:11] To [02:42:ac:1c:00:0c]\n",
            "Packet Safe, From [02:42:11:88:8d:11] To [02:42:ac:1c:00:0c]\n"
          ]
        }
      ]
    },
    {
      "cell_type": "markdown",
      "source": [
        "###Оценка работы модели. Проверка на переобучение и оценка необходимых метрик"
      ],
      "metadata": {
        "id": "JCdPfPDWoGWo"
      }
    },
    {
      "cell_type": "code",
      "source": [
        "from sklearn.metrics import accuracy_score, recall_score, f1_score, confusion_matrix\n",
        "import seaborn as sns\n",
        "import matplotlib.pyplot as plt\n",
        "\n",
        "# Вычисление точности\n",
        "accuracy = accuracy_score(y_test, predictions)\n",
        "print(\"Accuracy:\", accuracy)\n",
        "\n",
        "# Вычисление полноты\n",
        "recall = recall_score(y_test, predictions, average='weighted')\n",
        "print(\"Recall:\", recall)\n",
        "\n",
        "# Вычисление F1-меры\n",
        "f1 = f1_score(y_test, predictions, average='weighted')\n",
        "print(\"F1 Score:\", f1)\n",
        "\n",
        "# Построение матрицы ошибок\n",
        "cm = confusion_matrix(y_test, predictions)\n",
        "\n",
        "# Построение графика для точности, полноты и F1-меры\n",
        "plt.figure(figsize=(12, 6))\n",
        "\n",
        "# Точность, полнота и F1-мера\n",
        "plt.subplot(1, 2, 1)\n",
        "metrics = ['Accuracy(0.99853)', 'Recall(0.99853)', 'F1 Score(0.99855)']\n",
        "values = [accuracy, recall, f1]\n",
        "sns.barplot(x=metrics, y=values)\n",
        "plt.title('Performance Metrics')\n",
        "plt.ylim(0.995000, 1.000000)  # Измененный диапазон отображения\n",
        "# Матрица ошибок\n",
        "plt.subplot(1, 2, 2)\n",
        "sns.heatmap(cm, annot=True, cmap='Blues', fmt='g')\n",
        "plt.xlabel('Predicted labels')\n",
        "plt.ylabel('True labels')\n",
        "plt.title('Confusion Matrix')\n",
        "\n",
        "plt.tight_layout()\n",
        "plt.show()\n"
      ],
      "metadata": {
        "colab": {
          "base_uri": "https://localhost:8080/",
          "height": 659
        },
        "id": "unFO5HemO0id",
        "outputId": "771e5a29-5c4d-4d3a-bbf9-15a7ff956d2f"
      },
      "execution_count": null,
      "outputs": [
        {
          "output_type": "stream",
          "name": "stdout",
          "text": [
            "Accuracy: 0.9985710316357719\n",
            "Recall: 0.9985710316357719\n",
            "F1 Score: 0.9985906423282508\n"
          ]
        },
        {
          "output_type": "display_data",
          "data": {
            "text/plain": [
              "<Figure size 1200x600 with 3 Axes>"
            ],
            "image/png": "[encoded data removed]"
          },
          "metadata": {}
        }
      ]
    },
    {
      "cell_type": "code",
      "source": [
        "import numpy as np\n",
        "import matplotlib.pyplot as plt\n",
        "from sklearn.model_selection import learning_curve, validation_curve\n",
        "\n",
        "def plot_learning_curve(estimator, X, y, cv=None, train_sizes=np.linspace(.1, 1.0, 5)):\n",
        "    train_sizes, train_scores, test_scores = learning_curve(\n",
        "        estimator, X, y, cv=cv, train_sizes=train_sizes)\n",
        "    train_scores_mean = np.mean(train_scores, axis=1)\n",
        "    train_scores_std = np.std(train_scores, axis=1)\n",
        "    test_scores_mean = np.mean(test_scores, axis=1)\n",
        "    test_scores_std = np.std(test_scores, axis=1)\n",
        "\n",
        "    plt.figure()\n",
        "    plt.title(\"Learning Curve\")\n",
        "    plt.xlabel(\"Training examples\")\n",
        "    plt.ylabel(\"Score\")\n",
        "\n",
        "    plt.fill_between(train_sizes, train_scores_mean - train_scores_std,\n",
        "                     train_scores_mean + train_scores_std, alpha=0.1,\n",
        "                     color=\"r\")\n",
        "    plt.fill_between(train_sizes, test_scores_mean - test_scores_std,\n",
        "                     test_scores_mean + test_scores_std, alpha=0.1, color=\"g\")\n",
        "    plt.plot(train_sizes, train_scores_mean, 'o-', color=\"r\",\n",
        "             label=\"Training score\")\n",
        "    plt.plot(train_sizes, test_scores_mean, 'o-', color=\"g\",\n",
        "             label=\"Cross-validation score\")\n",
        "\n",
        "    plt.legend(loc=\"best\")\n",
        "    return plt\n",
        "\n",
        "# Пример использования\n",
        "plot_learning_curve(ovr_classifier, X_train, y_train, cv=5)\n",
        "plt.show()\n"
      ],
      "metadata": {
        "colab": {
          "base_uri": "https://localhost:8080/",
          "height": 472
        },
        "id": "78jpiwA3PB-c",
        "outputId": "1cb41234-b5a8-4c14-c781-ed383aaecba4"
      },
      "execution_count": null,
      "outputs": [
        {
          "output_type": "display_data",
          "data": {
            "text/plain": [
              "<Figure size 640x480 with 1 Axes>"
            ],
            "image/png": "[encoded data removed]"
          },
          "metadata": {}
        }
      ]
    }
  ]
}